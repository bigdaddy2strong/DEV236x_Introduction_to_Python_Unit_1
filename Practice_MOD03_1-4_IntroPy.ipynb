{
  "cells": [
    {
      "metadata": {},
      "cell_type": "markdown",
      "source": "# 1-4.3 Intro Python Practice\n## Conditionals \n<font size=\"5\" color=\"#00A0B2\"  face=\"verdana\"> <B>Student will be able to</B></font>  \n- **control code flow with `if`... `else` conditional logic**  \n  - using Boolean string methods (`.isupper(), .isalpha(), .startswith()...`)  \n  - using comparision (`>, <, >=, <=, ==, !=`)  \n  - using Strings in comparisons  "
    },
    {
      "metadata": {},
      "cell_type": "markdown",
      "source": "## `if else`\n"
    },
    {
      "metadata": {
        "trusted": true
      },
      "cell_type": "code",
      "source": "# [ ] input avariable: age as digit and cast to int\n# if age greater than or equal to 12 then print message on age in 10 years \n# or else print message \"It is good to be\" age\ndef age(x):\n    \n    if x.isdigit()>12:\n        return no\n    elif x.isdigit()<12:\n        return 'ok'\nage(input())\n\n\n",
      "execution_count": 10,
      "outputs": [
        {
          "output_type": "stream",
          "name": "stdout",
          "text": "5\n"
        },
        {
          "output_type": "execute_result",
          "execution_count": 10,
          "data": {
            "text/plain": "'ok'"
          },
          "metadata": {}
        }
      ]
    },
    {
      "metadata": {
        "trusted": true
      },
      "cell_type": "code",
      "source": "# [ ] input a number \n# if number IS a digit string then cast to int\n# print number \"greater than 100 is\" True/False\n# if number is NOT a digit string then message the user that \"only int is accepted\"\n\ndef age_20(age):\n\n    if age.isdigit() > 20:\n        return str(int(age) - 20) + \" years old, 20 years difference from now.\"\n    elif age.isdigit() <= 20:\n        return str(int(age) + 20) + \" years old, 20 years addition from now.\"\n    elif age.isalpha() == True:\n        return \"Invalid.\"\n\nage_20(input())",
      "execution_count": 13,
      "outputs": [
        {
          "output_type": "stream",
          "name": "stdout",
          "text": "5\n"
        },
        {
          "output_type": "execute_result",
          "execution_count": 13,
          "data": {
            "text/plain": "'25 years old, 20 years addition from now.'"
          },
          "metadata": {}
        }
      ]
    },
    {
      "metadata": {},
      "cell_type": "markdown",
      "source": "### Guessing a letter A-Z  \n**check_guess()** takes 2 string arguments: **letter and guess** (both expect single alphabetical character)   \n    - if guess is not an alpha character print invalid and return False\n    - test and print if guess is \"high\" or \"low\" and return False\n    - test and print if guess is \"correct\" and return True"
    },
    {
      "metadata": {
        "trusted": true
      },
      "cell_type": "code",
      "source": "# [ ] create check_guess()\n# call with test\nletter = 'l'\nguess = input('guess a fuckin letter:')\n\ndef check_guess():\n    if guess.lower() == letter:\n        print('ok')\n    elif guess.isdigit():\n        print('choose a letter stupid')\n    elif guess.lower() > letter:\n        print('lower')\n    elif guess.lower() < letter:\n        print('higher')\n        \ncheck_guess()\n",
      "execution_count": 9,
      "outputs": [
        {
          "output_type": "stream",
          "name": "stdout",
          "text": "guess a fuckin letter:m\nlower\n"
        }
      ]
    },
    {
      "metadata": {
        "collapsed": true,
        "trusted": false
      },
      "cell_type": "code",
      "source": "# [ ] call check_guess with user input\n\n",
      "execution_count": null,
      "outputs": []
    },
    {
      "metadata": {},
      "cell_type": "markdown",
      "source": "### Letter Guess\n**create letter_guess() function that gives user 3 guesses**\n- takes a letter character argument for the answer letter\n- gets user input for letter guess  \n- calls check_guess() with answer and guess\n- End letter_guess if \n    - check_guess() equals True, return True  \n    - or after 3 failed attempts, return False"
    },
    {
      "metadata": {
        "collapsed": true,
        "trusted": false
      },
      "cell_type": "code",
      "source": "# [ ] create letter_guess() function, call the function to test\n\n\n",
      "execution_count": null,
      "outputs": []
    },
    {
      "metadata": {},
      "cell_type": "markdown",
      "source": "### Pet Conversation\n**ask the user for a sentence about a pet and then reply**  \n- get user input in variable: about_pet\n- using a series of **if** statements respond with appropriate conversation\n  - check if \"dog\" is in the string about_pet (sample reply \"Ah, a dog\")\n  - check if \"cat\" is in the string about_pet\n  - check if 1 or more animal is in string about_pet\n- no need for **else**'s\n- finish with thanking for the story"
    },
    {
      "metadata": {
        "collapsed": true,
        "trusted": false
      },
      "cell_type": "code",
      "source": "# [ ] complete pet conversation\n\n",
      "execution_count": null,
      "outputs": []
    },
    {
      "metadata": {
        "collapsed": true
      },
      "cell_type": "markdown",
      "source": "[Terms of use](http://go.microsoft.com/fwlink/?LinkID=206977) &nbsp; [Privacy & cookies](https://go.microsoft.com/fwlink/?LinkId=521839) &nbsp; © 2017 Microsoft"
    }
  ],
  "metadata": {
    "anaconda-cloud": {},
    "kernelspec": {
      "name": "python3",
      "display_name": "Python 3",
      "language": "python"
    },
    "language_info": {
      "mimetype": "text/x-python",
      "nbconvert_exporter": "python",
      "name": "python",
      "pygments_lexer": "ipython3",
      "version": "3.5.4",
      "file_extension": ".py",
      "codemirror_mode": {
        "version": 3,
        "name": "ipython"
      }
    }
  },
  "nbformat": 4,
  "nbformat_minor": 1
}