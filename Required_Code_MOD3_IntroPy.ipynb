{
  "cells": [
    {
      "metadata": {
        "collapsed": true
      },
      "cell_type": "markdown",
      "source": "#  Module 3 Required Coding Activity  \nIntroduction to Python Unit 1 \n\nThis is an activity based on code similar to the Jupyter Notebook **`Practice_MOD03_1-4_IntroPy.ipynb`** and **`Practice_MOD03_1-5_IntroPy.ipynb`** which you may have completed as practice.\n\n> **NOTE:** This program requires the use of **`if, elif, else`**, and casting between strings and numbers. The program should use the various code syntax covered in module 3.  \n>  \n>The program must result in print output using numeric input similar to that shown in the sample below.\n\n## Program: Cheese Order    \n\n- set values for maximum and minimum order variables  \n- set value for price variable\n- get order_amount input and cast to a number  \n- check order_amount and give message checking against  \n  - over maximum\n  - under minimum\n- else within maximum and minimum give message with calculated price \n\n\nSample input and output:\n```\nEnter cheese order weight (numeric value): 113\n113.0 is more than currently available stock\n```\n\n```\nEnter cheese order weight (numeric value): .15\n0.15 is below minimum order amount\n```  \n\n```\nEnter cheese order weight (numeric value): 2\n2.0 costs $15.98\n```  "
    },
    {
      "metadata": {
        "trusted": true
      },
      "cell_type": "code",
      "source": "# [ ] create, call and test \n# then PASTE THIS CODE into edX\nweight=input('Enter cheese order weight: ')\ncost=float(25.69)\nmini=float(.25)\nmaxi=float(100)\n\ndef cheese(weight):\n    if float(weight) < mini:\n        print('That is less than the minimum amount.')\n    elif float(weight) > maxi:\n        print('That is more than what is in stock.')\n    else:\n        print('Your total for',weight,'is', round(float(weight)*cost,2))\n        \n            \ncheese(weight)\n",
      "execution_count": 55,
      "outputs": [
        {
          "output_type": "stream",
          "name": "stdout",
          "text": "Enter cheese order weight: 54\nYour total for 54 is 1387.26\n"
        }
      ]
    },
    {
      "metadata": {},
      "cell_type": "markdown",
      "source": "### Need assignment tips and clarification? \nSee the video on the \"End of Module coding assignment > Module 3 Required Code Description\" course page on [edX](https://courses.edx.org/courses/course-v1:Microsoft+DEV236x+4T2017/course)  \n\n# Important:  [How to submit the code in edX by pasting](https://courses.edx.org/courses/course-v1:Microsoft+DEV236x+1T2017/wiki/Microsoft.DEV236x.1T2017/paste-code-end-module-coding-assignments/)"
    },
    {
      "metadata": {},
      "cell_type": "markdown",
      "source": "[Terms of use](http://go.microsoft.com/fwlink/?LinkID=206977) &nbsp; [Privacy & cookies](https://go.microsoft.com/fwlink/?LinkId=521839) &nbsp; © 2017 Microsoft"
    }
  ],
  "metadata": {
    "kernelspec": {
      "name": "python3",
      "display_name": "Python 3",
      "language": "python"
    },
    "language_info": {
      "mimetype": "text/x-python",
      "nbconvert_exporter": "python",
      "name": "python",
      "pygments_lexer": "ipython3",
      "version": "3.5.4",
      "file_extension": ".py",
      "codemirror_mode": {
        "version": 3,
        "name": "ipython"
      }
    }
  },
  "nbformat": 4,
  "nbformat_minor": 1
}