{
  "cells": [
    {
      "metadata": {
        "collapsed": true
      },
      "cell_type": "markdown",
      "source": "# 1-1 Intro Python Practice\n##  Getting started with Python in Jupyter Notebooks\n### notebooks, comments, print(), type(), addition, errors and art\n\n<font size=\"5\" color=\"#00A0B2\"  face=\"verdana\"> <B>Student will be able to</B></font>\n- use Python 3 in Jupyter notebooks\n- write working code using `print()` and `#` comments  \n- write working code using `type()` and variables\n- combine strings using string addition (+)\n- add numbers in code (+)\n- troubleshoot errors\n- create character art  \n\n# &nbsp;\n>**note:** the **[ ]** indicates student has a task to complete  \n  \n>**reminder:** to run code and save changes: student should upload or clone a copy of notebooks \n\n#### notebook use\n- [ ] insert a **code cell** below   \n- [ ] enter the following Python code, including the comment: \n```python \n# [ ] print 'Hello!' and remember to save notebook!\nprint('Hello!')\n```\nThen run the code - the output should be:  \n`Hello!`"
    },
    {
      "metadata": {
        "trusted": true
      },
      "cell_type": "code",
      "source": "# [ ] print 'Hello!' and remember to save notebook!\nprint('Hello!')",
      "execution_count": 1,
      "outputs": [
        {
          "output_type": "stream",
          "text": "Hello!\n",
          "name": "stdout"
        }
      ]
    },
    {
      "metadata": {},
      "cell_type": "markdown",
      "source": "#### run the cell below   \n- [ ] use **Ctrl + Enter**  \n- [ ] use **Shift + Enter**    "
    },
    {
      "metadata": {
        "trusted": true
      },
      "cell_type": "code",
      "source": "print('watch for the cat')",
      "execution_count": 3,
      "outputs": [
        {
          "output_type": "stream",
          "text": "watch for the cat\n",
          "name": "stdout"
        }
      ]
    },
    {
      "metadata": {},
      "cell_type": "markdown",
      "source": "#### Student's Notebook editing\n- [ ] Edit **this** notebook Markdown cell replacing the word \"Student's\" above with your name\n- [ ] Run the cell to display the formatted text\n- [ ] Run any 'markdown' cells that are in edit mode, so they are easier to read"
    },
    {
      "metadata": {
        "trusted": true
      },
      "cell_type": "code",
      "source": "#### [ ] convert \\*this\\* cell from markdown to a code cell, then run it  \nprint('Run as a code cell')\n",
      "execution_count": 30,
      "outputs": [
        {
          "output_type": "stream",
          "text": "Run as a code cell\n",
          "name": "stdout"
        }
      ]
    },
    {
      "metadata": {},
      "cell_type": "markdown",
      "source": "##  # comments\ncreate a code comment that identifies this notebook, containing your name and the date"
    },
    {
      "metadata": {
        "collapsed": true,
        "trusted": false
      },
      "cell_type": "code",
      "source": "# practice 1-1, Landon Sherman, 9/20/2018",
      "execution_count": null,
      "outputs": []
    },
    {
      "metadata": {},
      "cell_type": "markdown",
      "source": "#### use print() to \n- [ ] print [**your_name**]\n- [ ] print **is using python!**"
    },
    {
      "metadata": {
        "trusted": true
      },
      "cell_type": "code",
      "source": "# [ ] print your name\nprint('Landon Sherman')\n# [ ] print \"is using Python\"\nprint('is using Python!')\n",
      "execution_count": 5,
      "outputs": [
        {
          "output_type": "stream",
          "text": "Landon Sherman\nis using Python!\n",
          "name": "stdout"
        }
      ]
    },
    {
      "metadata": {},
      "cell_type": "markdown",
      "source": "Output above should be:  \n`Your Name  \nis using Python!`  "
    },
    {
      "metadata": {},
      "cell_type": "markdown",
      "source": "#### use variables in print()\n- [ ] create a variable **your_name** and assign it a string containing your name\n- [ ] print **your_name**"
    },
    {
      "metadata": {
        "trusted": true
      },
      "cell_type": "code",
      "source": "# [ ] create a variable your_name and assign it a sting containing your name\nyour_name = 'Landon Sherman'\n\n#[ ] print your_name\nprint(your_name)\n",
      "execution_count": 6,
      "outputs": [
        {
          "output_type": "stream",
          "text": "Landon Sherman\n",
          "name": "stdout"
        }
      ]
    },
    {
      "metadata": {},
      "cell_type": "markdown",
      "source": "#### create more string variables\n- **[ ]** create variables as directed below\n- **[ ]** print the variables"
    },
    {
      "metadata": {
        "trusted": true
      },
      "cell_type": "code",
      "source": "# [ ] create variables and assign values for: favorite_song, shoe_size, lucky_number\nfavorite_song = 'Gone Away'\nshoe_size = 10\nlucky_number = 13\n# [ ] print the value of each variable favorite_song, shoe_size, and lucky_number\nprint(favorite_song)\nprint(shoe_size)\nprint(lucky_number)\n",
      "execution_count": 7,
      "outputs": [
        {
          "output_type": "stream",
          "text": "Gone Away\n10\n13\n",
          "name": "stdout"
        }
      ]
    },
    {
      "metadata": {},
      "cell_type": "markdown",
      "source": "#### use string addition\n- **[ ]**  print the above string variables (favorite_song, shoe_size, lucky_number) combined with a description by using **string addition**\n>for example favorite_song displayed as:  \n`favorite song is happy birthday`"
    },
    {
      "metadata": {
        "trusted": true
      },
      "cell_type": "code",
      "source": "# [ ] print favorite_song with description\nprint('My favorite song',favorite_song,'is by Five Finger Death Punch. ')\n\n# [ ] print shoe_size with description\nprint('My shoes are a size',shoe_size)\n\n# [ ] print lucky_number with description\nprint('I am always lucky with',lucky_number)\n",
      "execution_count": 11,
      "outputs": [
        {
          "output_type": "stream",
          "text": "My favorite song Gone Away is by Five Finger Death Punch. \nMy shoes are a size 10\nI am always lucky with 13\n",
          "name": "stdout"
        }
      ]
    },
    {
      "metadata": {},
      "cell_type": "markdown",
      "source": "##### more string addition\n- **[ ]** make a single string (sentence) in a variable called favorite_lucky_shoe using **string addition** with favorite_song, shoe_size, lucky_number variables and other strings as needed \n- **[ ]** print the value of the favorite_lucky_shoe variable string\n> sample output:  \n`For singing happy birthday 8.5 times, you will be fined $25`"
    },
    {
      "metadata": {
        "trusted": true
      },
      "cell_type": "code",
      "source": "# assign favorite_lucky_shoe using\nfavorite_song = 'Gone Away'\nshoe_size = '10'\nlucky_number = '13'\nfavorite_lucky_shoe = 'I like to sing ' + favorite_song + ' ' + shoe_size + ' times a day every ' + lucky_number + ' days.'\nprint(favorite_lucky_shoe)\n\n\n",
      "execution_count": 45,
      "outputs": [
        {
          "output_type": "stream",
          "text": "I like to sing Gone Away 10 times a day every 13 days.\n",
          "name": "stdout"
        }
      ]
    },
    {
      "metadata": {},
      "cell_type": "markdown",
      "source": "### print() art"
    },
    {
      "metadata": {},
      "cell_type": "markdown",
      "source": "#### use `print()` and the asterisk **\\*** to create the following shapes\n- [ ] diagonal line  \n- [ ] rectangle  \n- [ ] smiley face"
    },
    {
      "metadata": {
        "trusted": true
      },
      "cell_type": "code",
      "source": "# [ ] print a diagonal using \"*\"\nprint('*')\nprint(' *')\nprint('  *')\nprint('   *')\nprint('    *')\n\n# [ ] rectangle using \"*\"\nprint('*****')\nprint('*   *')\nprint('*   *')\nprint('*****')\n# [ ] smiley using \"*\"\nprint('    *   *    ')\nprint('*           *')\nprint(' *         *')\nprint('  * ****  *')",
      "execution_count": 54,
      "outputs": [
        {
          "output_type": "stream",
          "text": "*\n *\n  *\n   *\n    *\n*****\n*   *\n*   *\n*****\n    *   *    \n*           *\n *         *\n  * ****  *\n",
          "name": "stdout"
        }
      ]
    },
    {
      "metadata": {},
      "cell_type": "markdown",
      "source": "#### Using `type()`\n-**[ ]** calulate the *type* using `type()`"
    },
    {
      "metadata": {
        "trusted": true
      },
      "cell_type": "code",
      "source": "# [ ] display the type of 'your name' (use single quotes)\n\ntype('Landon Sherman')",
      "execution_count": 2,
      "outputs": [
        {
          "output_type": "execute_result",
          "execution_count": 2,
          "data": {
            "text/plain": "str"
          },
          "metadata": {}
        }
      ]
    },
    {
      "metadata": {
        "trusted": true
      },
      "cell_type": "code",
      "source": "# [ ] display the type of \"save your notebook!\" (use double quotes)\ntype(\"save your notebook!\")\n\n",
      "execution_count": 3,
      "outputs": [
        {
          "output_type": "execute_result",
          "execution_count": 3,
          "data": {
            "text/plain": "str"
          },
          "metadata": {}
        }
      ]
    },
    {
      "metadata": {
        "trusted": true
      },
      "cell_type": "code",
      "source": "# [ ] display the type of \"25\" (use quotes)\ntype(\"25\")\n",
      "execution_count": 4,
      "outputs": [
        {
          "output_type": "execute_result",
          "execution_count": 4,
          "data": {
            "text/plain": "str"
          },
          "metadata": {}
        }
      ]
    },
    {
      "metadata": {
        "trusted": true
      },
      "cell_type": "code",
      "source": "# [ ] display the type of \"save your notebook \" + 'your name'\ntype(\"save your name\" + 'your name')\n\n",
      "execution_count": 5,
      "outputs": [
        {
          "output_type": "execute_result",
          "execution_count": 5,
          "data": {
            "text/plain": "str"
          },
          "metadata": {}
        }
      ]
    },
    {
      "metadata": {
        "trusted": true
      },
      "cell_type": "code",
      "source": "# [ ] display the type of 25 (no quotes)\ntype(25)\n\n",
      "execution_count": 6,
      "outputs": [
        {
          "output_type": "execute_result",
          "execution_count": 6,
          "data": {
            "text/plain": "int"
          },
          "metadata": {}
        }
      ]
    },
    {
      "metadata": {
        "trusted": true
      },
      "cell_type": "code",
      "source": "# [ ] display the type of 25 + 10 \ntype(25+10)\n\n",
      "execution_count": 7,
      "outputs": [
        {
          "output_type": "execute_result",
          "execution_count": 7,
          "data": {
            "text/plain": "int"
          },
          "metadata": {}
        }
      ]
    },
    {
      "metadata": {
        "trusted": true
      },
      "cell_type": "code",
      "source": "# [ ] display the type of 1.55\ntype(1.55)\n\n",
      "execution_count": 10,
      "outputs": [
        {
          "output_type": "execute_result",
          "execution_count": 10,
          "data": {
            "text/plain": "float"
          },
          "metadata": {}
        }
      ]
    },
    {
      "metadata": {
        "trusted": true
      },
      "cell_type": "code",
      "source": "# [ ] display the type of 1.55 + 25\ntype(1.55+25)\n",
      "execution_count": 8,
      "outputs": [
        {
          "output_type": "execute_result",
          "execution_count": 8,
          "data": {
            "text/plain": "float"
          },
          "metadata": {}
        }
      ]
    },
    {
      "metadata": {},
      "cell_type": "markdown",
      "source": "#### Find the type of variables\n- **[ ]** run the cell below to make the variables available to be used in other code\n- **[ ]** display the data type as directed in the cells that follow"
    },
    {
      "metadata": {
        "trusted": true
      },
      "cell_type": "code",
      "source": "# assignments ***RUN THIS CELL*** before starting the section\n\nstudent_name = \"Gus\"\nstudent_age = 16\nstudent_grade = 3.5\nstudent_id = \"ABC-000-000\"\n",
      "execution_count": 11,
      "outputs": []
    },
    {
      "metadata": {
        "trusted": true
      },
      "cell_type": "code",
      "source": "# [ ] display the current type of the variable student_name\ntype(student_name)\n\n",
      "execution_count": 12,
      "outputs": [
        {
          "output_type": "execute_result",
          "execution_count": 12,
          "data": {
            "text/plain": "str"
          },
          "metadata": {}
        }
      ]
    },
    {
      "metadata": {
        "trusted": true
      },
      "cell_type": "code",
      "source": "# [ ] display the type of student_age\ntype(student_age)\n\n",
      "execution_count": 13,
      "outputs": [
        {
          "output_type": "execute_result",
          "execution_count": 13,
          "data": {
            "text/plain": "int"
          },
          "metadata": {}
        }
      ]
    },
    {
      "metadata": {
        "trusted": true
      },
      "cell_type": "code",
      "source": "# [ ] display the type of student_grade\ntype(student_grade)\n\n",
      "execution_count": 14,
      "outputs": [
        {
          "output_type": "execute_result",
          "execution_count": 14,
          "data": {
            "text/plain": "float"
          },
          "metadata": {}
        }
      ]
    },
    {
      "metadata": {
        "trusted": true
      },
      "cell_type": "code",
      "source": "# [ ] display the type of student_age + student_grade\ntype(student_age + student_grade)\n\n",
      "execution_count": 15,
      "outputs": [
        {
          "output_type": "execute_result",
          "execution_count": 15,
          "data": {
            "text/plain": "float"
          },
          "metadata": {}
        }
      ]
    },
    {
      "metadata": {
        "trusted": true
      },
      "cell_type": "code",
      "source": "# [ ] display the current type of student_id\ntype(student_id)\n\n",
      "execution_count": 16,
      "outputs": [
        {
          "output_type": "execute_result",
          "execution_count": 16,
          "data": {
            "text/plain": "str"
          },
          "metadata": {}
        }
      ]
    },
    {
      "metadata": {
        "trusted": true
      },
      "cell_type": "code",
      "source": "# assign new value to student_id \nstudent_id='CDE-121-666'\n\n# [ ] display the current of student_id\ntype(student_id)\n\n",
      "execution_count": 18,
      "outputs": [
        {
          "output_type": "execute_result",
          "execution_count": 18,
          "data": {
            "text/plain": "str"
          },
          "metadata": {}
        }
      ]
    },
    {
      "metadata": {
        "collapsed": true
      },
      "cell_type": "markdown",
      "source": "#### number integer addition\n\n- **[ ]** create variables (x, y, z) with integer values"
    },
    {
      "metadata": {
        "trusted": true
      },
      "cell_type": "code",
      "source": "# [ ] create integer variables (x, y, z) and assign them 1-3 digit integers (no decimals - no quotes)\nx=5\ny=2\nz=3\n\n",
      "execution_count": 19,
      "outputs": []
    },
    {
      "metadata": {},
      "cell_type": "markdown",
      "source": "- **[ ]** insert a **code cell** below\n- **[ ]** create an integer variable named **xyz_sum** equal to the sum of x, y, and z\n- **[ ]** print the value of **xyz_sum** "
    },
    {
      "metadata": {
        "trusted": true
      },
      "cell_type": "code",
      "source": "xyz_sum=x + y + z\nprint(xyz_sum)\n\n",
      "execution_count": 23,
      "outputs": [
        {
          "output_type": "stream",
          "text": "10\n",
          "name": "stdout"
        }
      ]
    },
    {
      "metadata": {},
      "cell_type": "markdown",
      "source": "### Errors\n- **[ ]** troubleshoot and fix the errors below"
    },
    {
      "metadata": {
        "trusted": true
      },
      "cell_type": "code",
      "source": "# [ ] fix the error \n\nprint(\"Hello World!\")    \n\n\n",
      "execution_count": 25,
      "outputs": [
        {
          "output_type": "stream",
          "text": "Hello World!\n",
          "name": "stdout"
        }
      ]
    },
    {
      "metadata": {
        "trusted": true
      },
      "cell_type": "code",
      "source": "# [ ] fix the error \nprint('strings have quotes and variables have names')\n\n",
      "execution_count": 26,
      "outputs": [
        {
          "output_type": "stream",
          "text": "strings have quotes and variables have names\n",
          "name": "stdout"
        }
      ]
    },
    {
      "metadata": {
        "trusted": true
      },
      "cell_type": "code",
      "source": "# [ ] fix the error \nprint( \"I have $5\")\n\n",
      "execution_count": 28,
      "outputs": [
        {
          "output_type": "stream",
          "text": "I have $5\n",
          "name": "stdout"
        }
      ]
    },
    {
      "metadata": {
        "trusted": true
      },
      "cell_type": "code",
      "source": "# [ ] fix the error \nprint(\"always save the notebook\")\n      \n",
      "execution_count": 29,
      "outputs": [
        {
          "output_type": "stream",
          "text": "always save the notebook\n",
          "name": "stdout"
        }
      ]
    },
    {
      "metadata": {
        "collapsed": true
      },
      "cell_type": "markdown",
      "source": "## ASCII art\n- **[ ]** Display first name or initials as ASCII Art\n- **[ ]** Challenge: insert an additional code cell to make an ASCII picture"
    },
    {
      "metadata": {
        "trusted": true
      },
      "cell_type": "code",
      "source": "# [ ] ASCII ART\nprint('*          ****')\nprint('*          *')\nprint('*          *')\nprint('*          ****')\nprint('*             *')\nprint('*             *')\nprint('*****      ****')\n\n\n",
      "execution_count": 30,
      "outputs": [
        {
          "output_type": "stream",
          "text": "*          ****\n*          *\n*          *\n*          ****\n*             *\n*             *\n*****      ****\n",
          "name": "stdout"
        }
      ]
    },
    {
      "metadata": {
        "trusted": true
      },
      "cell_type": "code",
      "source": "# [ ] ASCII ART\nprint(' ^...^')\nprint('<_* *_>')\nprint('  \\_/')\n     \n\n",
      "execution_count": 35,
      "outputs": [
        {
          "output_type": "stream",
          "text": " ^...^\n<_* *_>\n  \\_/\n",
          "name": "stdout"
        }
      ]
    },
    {
      "metadata": {},
      "cell_type": "markdown",
      "source": "[Terms of use](http://go.microsoft.com/fwlink/?LinkID=206977) &nbsp; [Privacy & cookies](https://go.microsoft.com/fwlink/?LinkId=521839) &nbsp; © 2017 Microsoft"
    }
  ],
  "metadata": {
    "anaconda-cloud": {},
    "kernelspec": {
      "name": "python3",
      "display_name": "Python 3",
      "language": "python"
    },
    "language_info": {
      "mimetype": "text/x-python",
      "nbconvert_exporter": "python",
      "name": "python",
      "pygments_lexer": "ipython3",
      "version": "3.5.4",
      "file_extension": ".py",
      "codemirror_mode": {
        "version": 3,
        "name": "ipython"
      }
    }
  },
  "nbformat": 4,
  "nbformat_minor": 1
}