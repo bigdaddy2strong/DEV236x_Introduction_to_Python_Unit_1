{
  "cells": [
    {
      "metadata": {},
      "cell_type": "markdown",
      "source": "# 1-5 Intro Python Practice  \n## conditionals, type, and mathematics extended   \n&nbsp;\n<font size=\"5\" color=\"#00A0B2\"  face=\"verdana\"> <B>Student will be able to</B></font>  \n- code more than two choices using **`elif`** \n- gather numeric input using type casting  \n- perform subtraction, multiplication and division operations in code  &nbsp;  \n"
    },
    {
      "metadata": {},
      "cell_type": "markdown",
      "source": "# &nbsp;  \n<font size=\"6\" color=\"#B24C00\"  face=\"verdana\"> <B>Tasks</B></font>"
    },
    {
      "metadata": {},
      "cell_type": "markdown",
      "source": "### Rainbow colors\nask for input of a favorite rainbow color first letter: ROYGBIV  \n\nUsing `if`, `elif`, and `else`:  \n- print the color matching the letter  \n    - R = Red  \n    - O = Orange  \n    - Y = Yellow  \n    - G = Green\n    - B = Blue\n    - I = Indigo\n    - V = Violet\n    - else print \"no match\"\n"
    },
    {
      "metadata": {
        "trusted": true
      },
      "cell_type": "code",
      "source": "# [ ] complete rainbow colors\ncolor = input('What is the first letter of you favorite color of the rainbow: ')\n\nif color.lower() == 'r':\n    print('Red')\nelif color.lower() == 'o':\n    print('Orange')\n\nelif color.lower() == 'y':\n    print('Yellow')\n    \nelif color.lower() == 'g':\n    print('Green')\nelif color.lower() ==  'b':\n    print('Blue')\nelif color.lower() == 'i':\n    print('Indigo')\nelif color.lower() == 'v':\n    print('Violoet')\nelse:\n    print('no match')\n          \nprint(color)\n",
      "execution_count": 11,
      "outputs": [
        {
          "output_type": "stream",
          "name": "stdout",
          "text": "What is the first letter of you favorite color of the rainbow: 5\nno match\n5\n"
        }
      ]
    },
    {
      "metadata": {
        "trusted": true
      },
      "cell_type": "code",
      "source": "# [ ] make the code above into a function color() that has a string parameter, \n# get input and call the function and return the matching color as a string or \"no match\" message.\n# Call the function and print the return string.\n\ncolor2 = input('What is the first letter of you favorite color of the rainbow: ')\n\ndef rainbow_color(color2):\n\n\n    if color2.lower() == 'r':\n        print('Red')\n    \n    elif color2.lower() == 'o':\n        print('Orange')\n    \n    elif color2.lower() == 'y':\n        print('Yellow')\n    \n    elif color2.lower() == 'g':\n        print('Green')\n    \n    elif color2.lower() ==  'b':\n        print('Blue')\n    \n    elif color2.lower() == 'i':\n        print('Indigo')\n    \n    elif color2.lower() == 'v':\n        print('Violoet')\n    \n    else:\n        print('no match')\n          \n\nrainbow_color(color2)",
      "execution_count": 24,
      "outputs": [
        {
          "output_type": "stream",
          "name": "stdout",
          "text": "What is the first letter of you favorite color of the rainbow: G\nGreen\n"
        }
      ]
    },
    {
      "metadata": {},
      "cell_type": "markdown",
      "source": "# &nbsp;  \n**Create function age_20() that adds or subtracts 20 from your age for a return value based on current age** (use `if`) \n- call the funtion with user input and then use the return value in a sentence  \nexample `age_20(25)` returns **5**: \n> \"5 years old, 20 years difference from now\""
    },
    {
      "metadata": {
        "trusted": true
      },
      "cell_type": "code",
      "source": "# [ ] complete age_20()\nx=input('What is your age? ')\n\ndef age_20(x):\n    \n    if int(x)<20:\n        print(int(x)+20,'years old, 20 years difference from now')\n    else:\n        print(int(x)-20,'years old, 20 years difference from now')\n        \nage_20(x)",
      "execution_count": 28,
      "outputs": [
        {
          "output_type": "stream",
          "name": "stdout",
          "text": "What is your age? 50\n30 years old, 20 years difference from now\n"
        }
      ]
    },
    {
      "metadata": {},
      "cell_type": "markdown",
      "source": "**create a function rainbow_or_age that takes a string argument**\n- if argument is a digit return the value of calling age_20() with the str value cast as **`int`** \n- if argument is an alphabetical character return the value of calling rainbow_color() with the str\n- if neither return FALSE"
    },
    {
      "metadata": {
        "trusted": true
      },
      "cell_type": "code",
      "source": "# [ ]  create rainbow_or_age()\n\ndef rainbow_or_age(y):\n\n    if user.isdigit():\n        return age_20(user)\n    elif user.isalpha():\n        return rainbow_color(user)\n    else:\n        return False \nuser= input(\"What do you want rainbow or age (1 alphabet / digits): \")\n\nrainbow_or_age(user)",
      "execution_count": 30,
      "outputs": [
        {
          "output_type": "stream",
          "name": "stdout",
          "text": "What do you want rainbow or age (1 alphabet / digits): g\nGreen\n"
        }
      ]
    },
    {
      "metadata": {
        "trusted": true
      },
      "cell_type": "code",
      "source": "# [ ]  add 2 numbers from input using a cast to integer and display the answer \nnum1=input('give 1st number: ')\nnum2=input('give 2nd number: ')\n\nif num1.isdigit()==False:\n    print('1 needs a number')\nelif num2.isdigit()==False:\n    print('2 needs a number')\nelse:\n    print(int(num1)+int(num2))\n\n",
      "execution_count": 42,
      "outputs": [
        {
          "output_type": "stream",
          "name": "stdout",
          "text": "give 1st number: 5\ngive 2nd number: 2.5\n2 needs a number\n"
        }
      ]
    },
    {
      "metadata": {
        "trusted": true
      },
      "cell_type": "code",
      "source": "# [ ] Multiply 2 numbers from input using cast and save the answer as part of a string \"the answer is...\"\n# display the string using print\nn1=input('#1: ')\nn2=input('#2: ')\n\nif n1.isdigit()==False:\n    print('numbers dick')\nelif n2.isdigit()==False:\n    print('numbers dick')\n    \nelse:\n    print(n1,'multiplied by',n2,'equals',int(n1)*int(n2))\n",
      "execution_count": 47,
      "outputs": [
        {
          "output_type": "stream",
          "name": "stdout",
          "text": "#1: 7\n#2: 2\n7 multiplied by 2 equals 14\n"
        }
      ]
    },
    {
      "metadata": {
        "trusted": true
      },
      "cell_type": "code",
      "source": "# [ ] get input of 2 numbers and display the average: (num1 + num2) divided by 2\nx=input('#1: ')\ny=input('#2: ')\n\nif x.isdigit()==False:\n    print('numbers dick')\nelif y.isdigit()==False:\n    print('numbers dick')\n    \nelse:\n    print((int(x)+int(y))/2)\n",
      "execution_count": 48,
      "outputs": [
        {
          "output_type": "stream",
          "name": "stdout",
          "text": "#1: 10\n#2: 2\n6.0\n"
        }
      ]
    },
    {
      "metadata": {
        "trusted": true
      },
      "cell_type": "code",
      "source": "# [ ] get input of 2 numbers and subtract the largest from the smallest (use an if statement to see which is larger)\n# show the answer\nl=input('loser#: ')\nw=input('winner#: ')\n\nif l>w:\n    print(int(l)-int(w))\n    \nelse:\n    print(int(w)-int(l))\n",
      "execution_count": 50,
      "outputs": [
        {
          "output_type": "stream",
          "name": "stdout",
          "text": "loser#: 2\nwinner#: 5\n3\n"
        }
      ]
    },
    {
      "metadata": {
        "trusted": true
      },
      "cell_type": "code",
      "source": "# [ ] Divide a larger number by a smaller number and print the integer part of the result\n# don't divide by zero! if a zero is input make the result zero\n# [ ] cast the answer to an integer to cut off the decimals and print the result\nm=input('enter a number 1: ')\nn=input('enter a number 2: ')\n\nif m.isdigit()==False:\n    print('numbers')\nelif n.isdigit()==False:\n    print('numbers')\n    \nelif n == '0':\n    print(int(0))\nelif m == '0':\n    print(int(0))\n    \nelif m<n:\n    print(int(int(m)/int(n)))\n    \nelif m<n:\n    print(int(int(n)/int(m)))\n",
      "execution_count": 78,
      "outputs": [
        {
          "output_type": "stream",
          "name": "stdout",
          "text": "enter a number 1: 15\nenter a number 2: 3\n5\n"
        }
      ]
    },
    {
      "metadata": {},
      "cell_type": "markdown",
      "source": "[Terms of use](http://go.microsoft.com/fwlink/?LinkID=206977) &nbsp; [Privacy & cookies](https://go.microsoft.com/fwlink/?LinkId=521839) &nbsp; © 2017 Microsoft"
    }
  ],
  "metadata": {
    "anaconda-cloud": {},
    "kernelspec": {
      "name": "python3",
      "display_name": "Python 3",
      "language": "python"
    },
    "language_info": {
      "mimetype": "text/x-python",
      "nbconvert_exporter": "python",
      "name": "python",
      "file_extension": ".py",
      "version": "3.5.4",
      "pygments_lexer": "ipython3",
      "codemirror_mode": {
        "version": 3,
        "name": "ipython"
      }
    }
  },
  "nbformat": 4,
  "nbformat_minor": 1
}