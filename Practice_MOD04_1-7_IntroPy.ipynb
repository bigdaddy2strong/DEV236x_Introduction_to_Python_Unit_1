{
  "cells": [
    {
      "metadata": {},
      "cell_type": "markdown",
      "source": "# 1-7.2 Intro Python Practice\n## `while()` loops & increments\n<font size=\"5\" color=\"#00A0B2\"  face=\"verdana\"> <B>Student will be able to</B></font>\n- create forever loops using `while` and `break`\n- use incrementing variables in a while loop\n- control while loops using Boolean operators"
    },
    {
      "metadata": {
        "trusted": true,
        "scrolled": true
      },
      "cell_type": "code",
      "source": "# [ ] use a \"forever\" while loop to get user input of integers to add to sum, \n# until a non-digit is entered, then break the loop and print sum\nnum1= 0\nwhile True:\n    \n    num2=input()\n    if num2.isdigit() == True:\n        num1=num1+int(num2)\n    elif num.isdigit !=True:\n        print(num1)\n        break\n        \n        ",
      "execution_count": 10,
      "outputs": [
        {
          "output_type": "stream",
          "name": "stdout",
          "text": "2\n2\n2\n2\n2\n22\n\n32\n"
        }
      ]
    },
    {
      "metadata": {
        "trusted": true
      },
      "cell_type": "code",
      "source": "# [ ] use a while True loop (forever loop) to give 4 chances for input of a correct color in a rainbow\n# rainbow = \"red orange yellow green blue indigo violet\"\n\nrainbow = \"red, orange, yellow, green, blue, indigo, violet\"\nchance = 0\n\nwhile True:\n    guess=input('guess rainbow color: ')\n    \n    if guess.lower() in rainbow:\n        print('Correct')\n        break\n    elif chance >=3:\n        print('Out of guesses')\n        break\n    else:\n        chance+=1",
      "execution_count": 7,
      "outputs": [
        {
          "output_type": "stream",
          "name": "stdout",
          "text": "guess rainbow color: black\nguess rainbow color: black\nguess rainbow color: black\nguess rainbow color: black\nOut of guesses\n"
        }
      ]
    },
    {
      "metadata": {
        "trusted": true
      },
      "cell_type": "code",
      "source": "# [ ] Get input for a book title, keep looping while input is Not in title format (title is every word capitalized\n\nwhile True:\n    title=input('Enter A Title ')\n    if title.istitle()== True:\n        print(title)\n        break\n        ",
      "execution_count": 2,
      "outputs": [
        {
          "output_type": "stream",
          "name": "stdout",
          "text": "Enter A Title this\nEnter A Title is\nEnter A Title not right\nEnter A Title This Is Right\nThis Is Right\n"
        }
      ]
    },
    {
      "metadata": {
        "trusted": true
      },
      "cell_type": "code",
      "source": "# [ ] create a math quiz question and ask for the solution until the input is correct\nanswer='25'\nquiz=input('What is 5 squared ')\n\nwhile quiz != answer:\n    quiz=input('What is 5 squared ')\n    if quiz == answer:\n        print(answer)\n        break",
      "execution_count": 3,
      "outputs": [
        {
          "output_type": "stream",
          "name": "stdout",
          "text": "What is 5 squared 2\nWhat is 5 squared 2\nWhat is 5 squared 4\nWhat is 5 squared 5\nWhat is 5 squared 25\n25\n"
        }
      ]
    },
    {
      "metadata": {},
      "cell_type": "markdown",
      "source": "### Fix the Error"
    },
    {
      "metadata": {
        "trusted": true
      },
      "cell_type": "code",
      "source": "# [ ] review the code, run, fix the error\ntickets = int(input(\"enter tickets remaining (0 to quit): \"))\n\nwhile tickets > 0:\n        # if tickets are multiple of 3 then \"winner\"\n    if tickets/3 == 3:\n        print(\"you win!\")\n        break\n    else:\n        print(\"sorry, not a winner.\")\n        break\nprint(\"Game ended\")\n    \n",
      "execution_count": 8,
      "outputs": [
        {
          "output_type": "stream",
          "name": "stdout",
          "text": "enter tickets remaining (0 to quit): 5\nsorry, not a winner.\nGame ended\n"
        }
      ]
    },
    {
      "metadata": {},
      "cell_type": "markdown",
      "source": "### create a function: quiz_item()  that asks a question and tests if input is correct  \n- quiz_item()has 2 parameter **strings**: question and solution  \n- shows question, gets answer input  \n- returns True if `answer == solution` or continues to ask question until correct answer is provided  \n- use a while loop\n\ncreate 2 or more quiz questions that call quiz_item()  \n**Hint**: provide multiple choice or T/F answers"
    },
    {
      "metadata": {
        "trusted": true
      },
      "cell_type": "code",
      "source": "# Create quiz_item() and 2 or more quiz questions that call quiz_item()\nquest1='Trump'\nquest2='Pence'\n\ndef quiz_item():\n    ques1=input('Who is the President: ')\n    if ques1.capitalize() == quest1:\n        print('correct')\n    else:\n        print('incorrect')\n    ques2=input('Who is the Vice-Pres: ')\n    if ques2.capitalize()==quest2:\n        print('correct')\n    else:\n        print('incorrect')\n        \nquiz_item()",
      "execution_count": 24,
      "outputs": [
        {
          "output_type": "stream",
          "name": "stdout",
          "text": "Who is the President: trump\ncorrect\nWho is the Vice-Pres: peNCE\ncorrect\n"
        }
      ]
    },
    {
      "metadata": {
        "collapsed": true
      },
      "cell_type": "markdown",
      "source": "[Terms of use](http://go.microsoft.com/fwlink/?LinkID=206977) &nbsp; [Privacy & cookies](https://go.microsoft.com/fwlink/?LinkId=521839) &nbsp; © 2017 Microsoft"
    }
  ],
  "metadata": {
    "anaconda-cloud": {},
    "kernelspec": {
      "name": "python3",
      "display_name": "Python 3",
      "language": "python"
    }
  },
  "nbformat": 4,
  "nbformat_minor": 1
}