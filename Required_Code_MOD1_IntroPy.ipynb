{
  "cells": [
    {
      "metadata": {
        "collapsed": true
      },
      "cell_type": "markdown",
      "source": "#  Module 1 Required Coding Activity  \nIntroduction to Python Unit 1\n\nThis is an activity from the Jupyter Notebook **`Practice_MOD01_1-2_IntroPy.ipynb`** which you may have already completed.\n\n> **NOTE:** This program requires print output and code syntax used in module 1\n\n| Some Assignment Requirements |  \n|:-------------------------------|  \n| **NOTE:** This program requires `print` output and using code syntax used in module 1 such as variable assignment, `input`, `in` keyword, `.lower()` or `.upper()` method  |  \n\n\n## Program: Allergy Check  \n\n1. **[ ]** get user **`input`** for categories of food eaten in the last 24 hours  \n save in a variable called **input_test**  \n *example input*\n [![01 02 practice Allergy-input](https://iajupyterprodblobs.blob.core.windows.net/imagecontainer/eaten_input.gif) ](https://1drv.ms/i/s!Am_KPRosgtaij65qzFD5CGvv95-ijg)\n&nbsp;  \n2. **[ ]** print **`True`** if \"dairy\" is in the **input_test** string  \n**[ ]** Test the code so far  \n&nbsp;\n3. **[ ]** modify the print statement to output similar to below  \n*example output*\n[![01 02 Allergy output](https://iajupyterprodblobs.blob.core.windows.net/imagecontainer/eaten_output.gif) ](https://1drv.ms/i/s!Am_KPRosgtaij65rET-wmlpCdMX7CQ)  \nTest the code so far trying input including the string \"dairy\" and without  \n&nbsp;  \n\n4. **[ ]** repeat the process checking the input for \"nuts\", **challenge** add \"Seafood\" and \"chocolate\"  \n**[ ]** Test your code  \n&nbsp;  \n  \n5. **[ ] challenge:** make your code work for input regardless of case, e.g. - print **`True`** for \"Nuts\", \"NuTs\", \"NUTS\" or \"nuts\"  \n"
    },
    {
      "metadata": {
        "trusted": true
      },
      "cell_type": "code",
      "source": "# Allergy check \n\n# 1[ ] get input for test\ninput_test=input('list the things you have eaten in the last 24 hours: ')\n\n# 2/3[ ] print True if \"dairy\" is in the input or False if not\nprint('dairy' in input_test.lower())\nprint('It is', 'dairy' in input_test.lower(),'that \"SeaFood, Dairy, NUts, and chocolate CAKE\" contains \"dairy\"')\n# 4[ ] Check if \"nuts\" are in the input\nprint('nuts' in input_test.lower())\nprint('It is', 'nuts' in input_test.lower(),'that',input_test,' contains \"nuts\"')\n# 4+[ ] Challenge: Check if \"seafood\" is in the input\nprint('seafood' in input_test.lower())\nprint('It is', 'seafood' in input_test.lower(),'that',input_test.lower(),' contains \"seafood\"')\n# 4+[ ] Challenge: Check if \"chocolate\" is in the input\nprint('chocolate' in input_test.lower())\nprint('It is', 'chocolate cake' in input_test.lower(),'that',input_test,' contains \"chocolate cake\"')",
      "execution_count": 9,
      "outputs": [
        {
          "output_type": "stream",
          "name": "stdout",
          "text": "list the things you have eaten in the last 24 hours: SeaFood, Dairy, NUts, and chocolate CAKE\nTrue\nIt is True that \"SeaFood, Dairy, NUts, and chocolate CAKE\" contains \"dairy\"\nTrue\nIt is True that SeaFood, Dairy, NUts, and chocolate CAKE  contains \"nuts\"\nTrue\nIt is True that seafood, dairy, nuts, and chocolate cake  contains \"seafood\"\nTrue\nIt is True that SeaFood, Dairy, NUts, and chocolate CAKE  contains \"chocolate cake\"\n"
        }
      ]
    },
    {
      "metadata": {},
      "cell_type": "markdown",
      "source": "### Need assignment tips and clarification? \nSee the video on the \"End of Module coding assignment > Module 1 Required Code Description\" course page on [edX](https://courses.edx.org/courses/course-v1:Microsoft+DEV236x+4T2017/course)  \n\n\n# Important:  [How to submit the code in edX by pasting](https://courses.edx.org/courses/course-v1:Microsoft+DEV236x+1T2017/wiki/Microsoft.DEV236x.1T2017/paste-code-end-module-coding-assignments/)"
    },
    {
      "metadata": {},
      "cell_type": "markdown",
      "source": "[Terms of use](http://go.microsoft.com/fwlink/?LinkID=206977) &nbsp; [Privacy & cookies](https://go.microsoft.com/fwlink/?LinkId=521839) &nbsp; © 2017 Microsoft"
    }
  ],
  "metadata": {
    "kernelspec": {
      "name": "python3",
      "display_name": "Python 3",
      "language": "python"
    },
    "language_info": {
      "mimetype": "text/x-python",
      "nbconvert_exporter": "python",
      "name": "python",
      "file_extension": ".py",
      "version": "3.5.4",
      "pygments_lexer": "ipython3",
      "codemirror_mode": {
        "version": 3,
        "name": "ipython"
      }
    }
  },
  "nbformat": 4,
  "nbformat_minor": 1
}